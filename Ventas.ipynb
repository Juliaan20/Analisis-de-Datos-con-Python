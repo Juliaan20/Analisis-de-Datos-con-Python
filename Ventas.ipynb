{
  "cells": [
    {
      "cell_type": "markdown",
      "metadata": {
        "id": "view-in-github",
        "colab_type": "text"
      },
      "source": [
        "<a href=\"https://colab.research.google.com/github/Juliaan20/Analisis-de-Datos-con-Python/blob/main/Ventas.ipynb\" target=\"_parent\"><img src=\"https://colab.research.google.com/assets/colab-badge.svg\" alt=\"Open In Colab\"/></a>"
      ]
    },
    {
      "cell_type": "code",
      "execution_count": null,
      "metadata": {
        "id": "HGi3sXG2iMfV"
      },
      "outputs": [],
      "source": [
        "#importamos librerias\n",
        "import pandas as pd\n",
        "import numpy as np\n",
        "import matplotlib.pyplot as plt\n",
        "\n",
        "##MultiGraficas\n",
        "def multigraf(df, coluno, coldos):\n",
        "    g = sns.FacetGrid(df, col=coluno)\n",
        "    g.map(sns.histplot, coldos)\n",
        "    return g\n",
        "\n",
        "#no presentar advertencias\n",
        "import warnings\n",
        "warnings.filterwarnings(\"ignore\")\n",
        "\n",
        "\n",
        "# Función para importar data .xlsx o .csv\n",
        "def importDatos(ruta, archivo, ext):\n",
        "    if ext == '.csv':\n",
        "        data = pd.read_csv(ruta+archivo+ext)\n",
        "        return data\n",
        "    elif ext == '.xlsx':\n",
        "        data = pd.read_excel(ruta+archivo+ext)\n",
        "        return data\n",
        "    else:\n",
        "        print('Extensión diferente')\n",
        "\n",
        "#definir datos NA\n",
        "def datos_NA(df):\n",
        "    if isinstance(df, pd.DataFrame):\n",
        "        total_na = df.isna().sum().sum()\n",
        "        print(\"Dimensiones: %d filas, %d columnas\" % (df.shape[0], df.shape[1]))\n",
        "        print(\"Total Valores NA: %d\" % total_na)\n",
        "        print(\"%-20s %-15s %-10s\" % (\"Nombre Columna\", \"Valores NA\", \"% NA\"))\n",
        "        for column in df.columns:\n",
        "            na_count = df[column].isna().sum()\n",
        "            na_percentage = (na_count / len(df)) * 100\n",
        "            print(\"%-20s %-15s %-10.2f%%\" % (column, na_count, na_percentage))"
      ]
    },
    {
      "cell_type": "code",
      "execution_count": null,
      "metadata": {
        "colab": {
          "base_uri": "https://localhost:8080/"
        },
        "id": "_pur_OTKiVit",
        "outputId": "c1080a72-732e-4850-ea8b-a58312736545"
      },
      "outputs": [
        {
          "name": "stdout",
          "output_type": "stream",
          "text": [
            "      Mes     Producto  Código vendedor    Tipo producto        Tienda  \\\n",
            "0       3    Televisor             3312  Entretenimiento       Zona 15   \n",
            "1       7    Televisor             4976  Entretenimiento       Zona 12   \n",
            "2       8       Bocina             1804  Entretenimiento     Amatitlán   \n",
            "3       6  Computadora             4976         Portátil        Petapa   \n",
            "4       1        Radio             5662         Portátil  Oakland mall   \n",
            "...   ...          ...              ...              ...           ...   \n",
            "1539    7     Cafetera             4976            Otros    Miraflores   \n",
            "1540    8    Televisor             1804  Entretenimiento       Zona 12   \n",
            "1541    8    Televisor             5662  Entretenimiento     Amatitlán   \n",
            "1542    8       Bocina             4976  Entretenimiento        Petapa   \n",
            "1543    8       Bocina             1804  Entretenimiento    La Antigua   \n",
            "\n",
            "      Sector  Compra  Monto venta  Edad  Género  Punto de red  Frecuencia  \n",
            "0          1       1          569    36       0        123739           1  \n",
            "1          2       0         2381    18       0        308321           1  \n",
            "2          3       1          568    30       1        143096           3  \n",
            "3          2       1         2518    23       0        309360           4  \n",
            "4          1       1          391    53       0        213568           2  \n",
            "...      ...     ...          ...   ...     ...           ...         ...  \n",
            "1539       2       0           71    49       1        261873           4  \n",
            "1540       2       0         1799    21       1        246468           3  \n",
            "1541       3       0          555    25       0        363237           2  \n",
            "1542       2       0          441    58       0        202550           3  \n",
            "1543       3       0          351    55       0        414055           3  \n",
            "\n",
            "[1544 rows x 12 columns]\n"
          ]
        }
      ],
      "source": [
        "# Cargar el archivo CSV en un DataFrame\n",
        "df = pd.read_csv(r\"C:\\Users\\j-oso\\OneDrive\\Escritorio\\Datasets\\Ventas.csv\")\n",
        "print(df)"
      ]
    },
    {
      "cell_type": "code",
      "execution_count": null,
      "metadata": {
        "id": "XyfwoFBHbhq9",
        "outputId": "b1cbba34-0a1e-49d7-add5-037cdd5e29a1"
      },
      "outputs": [
        {
          "data": {
            "text/html": [
              "<div>\n",
              "<style scoped>\n",
              "    .dataframe tbody tr th:only-of-type {\n",
              "        vertical-align: middle;\n",
              "    }\n",
              "\n",
              "    .dataframe tbody tr th {\n",
              "        vertical-align: top;\n",
              "    }\n",
              "\n",
              "    .dataframe thead th {\n",
              "        text-align: right;\n",
              "    }\n",
              "</style>\n",
              "<table border=\"1\" class=\"dataframe\">\n",
              "  <thead>\n",
              "    <tr style=\"text-align: right;\">\n",
              "      <th></th>\n",
              "      <th>Mes</th>\n",
              "      <th>Producto</th>\n",
              "      <th>Código vendedor</th>\n",
              "      <th>Tipo producto</th>\n",
              "      <th>Tienda</th>\n",
              "      <th>Sector</th>\n",
              "      <th>Compra</th>\n",
              "      <th>Monto venta</th>\n",
              "      <th>Edad</th>\n",
              "      <th>Género</th>\n",
              "      <th>Punto de red</th>\n",
              "      <th>Frecuencia</th>\n",
              "    </tr>\n",
              "  </thead>\n",
              "  <tbody>\n",
              "    <tr>\n",
              "      <th>0</th>\n",
              "      <td>3</td>\n",
              "      <td>Televisor</td>\n",
              "      <td>3312</td>\n",
              "      <td>Entretenimiento</td>\n",
              "      <td>Zona 15</td>\n",
              "      <td>1</td>\n",
              "      <td>1</td>\n",
              "      <td>569</td>\n",
              "      <td>36</td>\n",
              "      <td>0</td>\n",
              "      <td>123739</td>\n",
              "      <td>1</td>\n",
              "    </tr>\n",
              "    <tr>\n",
              "      <th>1</th>\n",
              "      <td>7</td>\n",
              "      <td>Televisor</td>\n",
              "      <td>4976</td>\n",
              "      <td>Entretenimiento</td>\n",
              "      <td>Zona 12</td>\n",
              "      <td>2</td>\n",
              "      <td>0</td>\n",
              "      <td>2381</td>\n",
              "      <td>18</td>\n",
              "      <td>0</td>\n",
              "      <td>308321</td>\n",
              "      <td>1</td>\n",
              "    </tr>\n",
              "    <tr>\n",
              "      <th>2</th>\n",
              "      <td>8</td>\n",
              "      <td>Bocina</td>\n",
              "      <td>1804</td>\n",
              "      <td>Entretenimiento</td>\n",
              "      <td>Amatitlán</td>\n",
              "      <td>3</td>\n",
              "      <td>1</td>\n",
              "      <td>568</td>\n",
              "      <td>30</td>\n",
              "      <td>1</td>\n",
              "      <td>143096</td>\n",
              "      <td>3</td>\n",
              "    </tr>\n",
              "    <tr>\n",
              "      <th>3</th>\n",
              "      <td>6</td>\n",
              "      <td>Computadora</td>\n",
              "      <td>4976</td>\n",
              "      <td>Portátil</td>\n",
              "      <td>Petapa</td>\n",
              "      <td>2</td>\n",
              "      <td>1</td>\n",
              "      <td>2518</td>\n",
              "      <td>23</td>\n",
              "      <td>0</td>\n",
              "      <td>309360</td>\n",
              "      <td>4</td>\n",
              "    </tr>\n",
              "    <tr>\n",
              "      <th>4</th>\n",
              "      <td>1</td>\n",
              "      <td>Radio</td>\n",
              "      <td>5662</td>\n",
              "      <td>Portátil</td>\n",
              "      <td>Oakland mall</td>\n",
              "      <td>1</td>\n",
              "      <td>1</td>\n",
              "      <td>391</td>\n",
              "      <td>53</td>\n",
              "      <td>0</td>\n",
              "      <td>213568</td>\n",
              "      <td>2</td>\n",
              "    </tr>\n",
              "    <tr>\n",
              "      <th>...</th>\n",
              "      <td>...</td>\n",
              "      <td>...</td>\n",
              "      <td>...</td>\n",
              "      <td>...</td>\n",
              "      <td>...</td>\n",
              "      <td>...</td>\n",
              "      <td>...</td>\n",
              "      <td>...</td>\n",
              "      <td>...</td>\n",
              "      <td>...</td>\n",
              "      <td>...</td>\n",
              "      <td>...</td>\n",
              "    </tr>\n",
              "    <tr>\n",
              "      <th>1539</th>\n",
              "      <td>7</td>\n",
              "      <td>Cafetera</td>\n",
              "      <td>4976</td>\n",
              "      <td>Otros</td>\n",
              "      <td>Miraflores</td>\n",
              "      <td>2</td>\n",
              "      <td>0</td>\n",
              "      <td>71</td>\n",
              "      <td>49</td>\n",
              "      <td>1</td>\n",
              "      <td>261873</td>\n",
              "      <td>4</td>\n",
              "    </tr>\n",
              "    <tr>\n",
              "      <th>1540</th>\n",
              "      <td>8</td>\n",
              "      <td>Televisor</td>\n",
              "      <td>1804</td>\n",
              "      <td>Entretenimiento</td>\n",
              "      <td>Zona 12</td>\n",
              "      <td>2</td>\n",
              "      <td>0</td>\n",
              "      <td>1799</td>\n",
              "      <td>21</td>\n",
              "      <td>1</td>\n",
              "      <td>246468</td>\n",
              "      <td>3</td>\n",
              "    </tr>\n",
              "    <tr>\n",
              "      <th>1541</th>\n",
              "      <td>8</td>\n",
              "      <td>Televisor</td>\n",
              "      <td>5662</td>\n",
              "      <td>Entretenimiento</td>\n",
              "      <td>Amatitlán</td>\n",
              "      <td>3</td>\n",
              "      <td>0</td>\n",
              "      <td>555</td>\n",
              "      <td>25</td>\n",
              "      <td>0</td>\n",
              "      <td>363237</td>\n",
              "      <td>2</td>\n",
              "    </tr>\n",
              "    <tr>\n",
              "      <th>1542</th>\n",
              "      <td>8</td>\n",
              "      <td>Bocina</td>\n",
              "      <td>4976</td>\n",
              "      <td>Entretenimiento</td>\n",
              "      <td>Petapa</td>\n",
              "      <td>2</td>\n",
              "      <td>0</td>\n",
              "      <td>441</td>\n",
              "      <td>58</td>\n",
              "      <td>0</td>\n",
              "      <td>202550</td>\n",
              "      <td>3</td>\n",
              "    </tr>\n",
              "    <tr>\n",
              "      <th>1543</th>\n",
              "      <td>8</td>\n",
              "      <td>Bocina</td>\n",
              "      <td>1804</td>\n",
              "      <td>Entretenimiento</td>\n",
              "      <td>La Antigua</td>\n",
              "      <td>3</td>\n",
              "      <td>0</td>\n",
              "      <td>351</td>\n",
              "      <td>55</td>\n",
              "      <td>0</td>\n",
              "      <td>414055</td>\n",
              "      <td>3</td>\n",
              "    </tr>\n",
              "  </tbody>\n",
              "</table>\n",
              "<p>1544 rows × 12 columns</p>\n",
              "</div>"
            ],
            "text/plain": [
              "      Mes     Producto  Código vendedor    Tipo producto        Tienda  \\\n",
              "0       3    Televisor             3312  Entretenimiento       Zona 15   \n",
              "1       7    Televisor             4976  Entretenimiento       Zona 12   \n",
              "2       8       Bocina             1804  Entretenimiento     Amatitlán   \n",
              "3       6  Computadora             4976         Portátil        Petapa   \n",
              "4       1        Radio             5662         Portátil  Oakland mall   \n",
              "...   ...          ...              ...              ...           ...   \n",
              "1539    7     Cafetera             4976            Otros    Miraflores   \n",
              "1540    8    Televisor             1804  Entretenimiento       Zona 12   \n",
              "1541    8    Televisor             5662  Entretenimiento     Amatitlán   \n",
              "1542    8       Bocina             4976  Entretenimiento        Petapa   \n",
              "1543    8       Bocina             1804  Entretenimiento    La Antigua   \n",
              "\n",
              "      Sector  Compra  Monto venta  Edad  Género  Punto de red  Frecuencia  \n",
              "0          1       1          569    36       0        123739           1  \n",
              "1          2       0         2381    18       0        308321           1  \n",
              "2          3       1          568    30       1        143096           3  \n",
              "3          2       1         2518    23       0        309360           4  \n",
              "4          1       1          391    53       0        213568           2  \n",
              "...      ...     ...          ...   ...     ...           ...         ...  \n",
              "1539       2       0           71    49       1        261873           4  \n",
              "1540       2       0         1799    21       1        246468           3  \n",
              "1541       3       0          555    25       0        363237           2  \n",
              "1542       2       0          441    58       0        202550           3  \n",
              "1543       3       0          351    55       0        414055           3  \n",
              "\n",
              "[1544 rows x 12 columns]"
            ]
          },
          "execution_count": 3,
          "metadata": {},
          "output_type": "execute_result"
        }
      ],
      "source": [
        "df"
      ]
    },
    {
      "cell_type": "code",
      "execution_count": null,
      "metadata": {
        "id": "2zGmITm0iMhr",
        "outputId": "8707fc2d-fb06-421d-d93c-f80e15032211"
      },
      "outputs": [
        {
          "name": "stdout",
          "output_type": "stream",
          "text": [
            "   Mes     Producto  Código vendedor    Tipo producto        Tienda  Sector  \\\n",
            "0    3    Televisor             3312  Entretenimiento       Zona 15       1   \n",
            "1    7    Televisor             4976  Entretenimiento       Zona 12       2   \n",
            "2    8       Bocina             1804  Entretenimiento     Amatitlán       3   \n",
            "3    6  Computadora             4976         Portátil        Petapa       2   \n",
            "4    1        Radio             5662         Portátil  Oakland mall       1   \n",
            "\n",
            "   Compra  Monto venta  Edad  Género  Punto de red  Frecuencia  \n",
            "0       1          569    36       0        123739           1  \n",
            "1       0         2381    18       0        308321           1  \n",
            "2       1          568    30       1        143096           3  \n",
            "3       1         2518    23       0        309360           4  \n",
            "4       1          391    53       0        213568           2  \n"
          ]
        }
      ],
      "source": [
        "# Mostrar las primeras filas del conjunto de datos\n",
        "print(df.head())"
      ]
    },
    {
      "cell_type": "code",
      "execution_count": null,
      "metadata": {
        "id": "4I7BeXQwbhq_",
        "outputId": "30420a30-df66-497a-b473-addca048029d"
      },
      "outputs": [
        {
          "name": "stdout",
          "output_type": "stream",
          "text": [
            "Variables numericas:\n",
            "\n",
            " ['Mes', 'Código vendedor', 'Sector', 'Compra', 'Monto venta', 'Edad', 'Género', 'Punto de red', 'Frecuencia']\n"
          ]
        }
      ],
      "source": [
        "#sacar los datos numericos:\n",
        "num = [var for var in df.columns if df[var].dtype != 'object']\n",
        "print('Variables numericas:\\n\\n',num)"
      ]
    },
    {
      "cell_type": "code",
      "execution_count": null,
      "metadata": {
        "id": "UPJfGBRIbhq_",
        "outputId": "0739025d-e30f-46db-ea2a-9efbd41a83d4"
      },
      "outputs": [
        {
          "data": {
            "text/plain": [
              "1    778\n",
              "0    766\n",
              "Name: Género, dtype: int64"
            ]
          },
          "execution_count": 11,
          "metadata": {},
          "output_type": "execute_result"
        }
      ],
      "source": [
        "\n",
        "df['Género'].value_counts()\n",
        "\n",
        "# 778 Hombres\n",
        "# 766 Mujeres"
      ]
    },
    {
      "cell_type": "code",
      "execution_count": null,
      "metadata": {
        "id": "qjVNFKLcbhrA",
        "outputId": "721ba668-448d-4da0-ea72-c88d416bba81"
      },
      "outputs": [
        {
          "name": "stdout",
          "output_type": "stream",
          "text": [
            "No existen valores duplicados\n"
          ]
        }
      ],
      "source": [
        "#identificamos los datos duplicados:\n",
        "duplicados = df.duplicated().any()\n",
        "\n",
        "#imprimimos en pantalla:\n",
        "if duplicados:\n",
        "    print(\"Existen valores duplicados\")\n",
        "else:\n",
        "    print(\"No existen valores duplicados\")"
      ]
    },
    {
      "cell_type": "code",
      "execution_count": null,
      "metadata": {
        "id": "GT7gegypbhrA",
        "outputId": "a49dfeb2-4784-466d-bdd2-e6b76ba127c8"
      },
      "outputs": [
        {
          "name": "stdout",
          "output_type": "stream",
          "text": [
            "Masculino    778\n",
            "Femenino     766\n",
            "Name: Género, dtype: int64\n"
          ]
        }
      ],
      "source": [
        "#Reemplazar los valores 0 y 1 por \"Femenino\" y \"Masculino\" en la columna 'genero'\n",
        "df['Género'] = df['Género'].replace({0: 'Femenino', 1: 'Masculino'})\n",
        "\n",
        "# Verificar los cambios\n",
        "print(df['Género'].value_counts())"
      ]
    },
    {
      "cell_type": "code",
      "execution_count": null,
      "metadata": {
        "id": "lzcanusobhrB",
        "outputId": "f3aef4a7-b1f9-4e37-94f3-34f19e7ba286"
      },
      "outputs": [
        {
          "data": {
            "text/html": [
              "<div>\n",
              "<style scoped>\n",
              "    .dataframe tbody tr th:only-of-type {\n",
              "        vertical-align: middle;\n",
              "    }\n",
              "\n",
              "    .dataframe tbody tr th {\n",
              "        vertical-align: top;\n",
              "    }\n",
              "\n",
              "    .dataframe thead th {\n",
              "        text-align: right;\n",
              "    }\n",
              "</style>\n",
              "<table border=\"1\" class=\"dataframe\">\n",
              "  <thead>\n",
              "    <tr style=\"text-align: right;\">\n",
              "      <th></th>\n",
              "      <th>Mes</th>\n",
              "      <th>Producto</th>\n",
              "      <th>Código vendedor</th>\n",
              "      <th>Tipo producto</th>\n",
              "      <th>Tienda</th>\n",
              "      <th>Sector</th>\n",
              "      <th>Compra</th>\n",
              "      <th>Monto venta</th>\n",
              "      <th>Edad</th>\n",
              "      <th>Género</th>\n",
              "      <th>Punto de red</th>\n",
              "      <th>Frecuencia</th>\n",
              "    </tr>\n",
              "  </thead>\n",
              "  <tbody>\n",
              "    <tr>\n",
              "      <th>0</th>\n",
              "      <td>3</td>\n",
              "      <td>Televisor</td>\n",
              "      <td>3312</td>\n",
              "      <td>Entretenimiento</td>\n",
              "      <td>Zona 15</td>\n",
              "      <td>1</td>\n",
              "      <td>1</td>\n",
              "      <td>569</td>\n",
              "      <td>36</td>\n",
              "      <td>Femenino</td>\n",
              "      <td>123739</td>\n",
              "      <td>1</td>\n",
              "    </tr>\n",
              "    <tr>\n",
              "      <th>1</th>\n",
              "      <td>7</td>\n",
              "      <td>Televisor</td>\n",
              "      <td>4976</td>\n",
              "      <td>Entretenimiento</td>\n",
              "      <td>Zona 12</td>\n",
              "      <td>2</td>\n",
              "      <td>0</td>\n",
              "      <td>2381</td>\n",
              "      <td>18</td>\n",
              "      <td>Femenino</td>\n",
              "      <td>308321</td>\n",
              "      <td>1</td>\n",
              "    </tr>\n",
              "    <tr>\n",
              "      <th>2</th>\n",
              "      <td>8</td>\n",
              "      <td>Bocina</td>\n",
              "      <td>1804</td>\n",
              "      <td>Entretenimiento</td>\n",
              "      <td>Amatitlán</td>\n",
              "      <td>3</td>\n",
              "      <td>1</td>\n",
              "      <td>568</td>\n",
              "      <td>30</td>\n",
              "      <td>Masculino</td>\n",
              "      <td>143096</td>\n",
              "      <td>3</td>\n",
              "    </tr>\n",
              "    <tr>\n",
              "      <th>3</th>\n",
              "      <td>6</td>\n",
              "      <td>Computadora</td>\n",
              "      <td>4976</td>\n",
              "      <td>Portátil</td>\n",
              "      <td>Petapa</td>\n",
              "      <td>2</td>\n",
              "      <td>1</td>\n",
              "      <td>2518</td>\n",
              "      <td>23</td>\n",
              "      <td>Femenino</td>\n",
              "      <td>309360</td>\n",
              "      <td>4</td>\n",
              "    </tr>\n",
              "    <tr>\n",
              "      <th>4</th>\n",
              "      <td>1</td>\n",
              "      <td>Radio</td>\n",
              "      <td>5662</td>\n",
              "      <td>Portátil</td>\n",
              "      <td>Oakland mall</td>\n",
              "      <td>1</td>\n",
              "      <td>1</td>\n",
              "      <td>391</td>\n",
              "      <td>53</td>\n",
              "      <td>Femenino</td>\n",
              "      <td>213568</td>\n",
              "      <td>2</td>\n",
              "    </tr>\n",
              "    <tr>\n",
              "      <th>...</th>\n",
              "      <td>...</td>\n",
              "      <td>...</td>\n",
              "      <td>...</td>\n",
              "      <td>...</td>\n",
              "      <td>...</td>\n",
              "      <td>...</td>\n",
              "      <td>...</td>\n",
              "      <td>...</td>\n",
              "      <td>...</td>\n",
              "      <td>...</td>\n",
              "      <td>...</td>\n",
              "      <td>...</td>\n",
              "    </tr>\n",
              "    <tr>\n",
              "      <th>1539</th>\n",
              "      <td>7</td>\n",
              "      <td>Cafetera</td>\n",
              "      <td>4976</td>\n",
              "      <td>Otros</td>\n",
              "      <td>Miraflores</td>\n",
              "      <td>2</td>\n",
              "      <td>0</td>\n",
              "      <td>71</td>\n",
              "      <td>49</td>\n",
              "      <td>Masculino</td>\n",
              "      <td>261873</td>\n",
              "      <td>4</td>\n",
              "    </tr>\n",
              "    <tr>\n",
              "      <th>1540</th>\n",
              "      <td>8</td>\n",
              "      <td>Televisor</td>\n",
              "      <td>1804</td>\n",
              "      <td>Entretenimiento</td>\n",
              "      <td>Zona 12</td>\n",
              "      <td>2</td>\n",
              "      <td>0</td>\n",
              "      <td>1799</td>\n",
              "      <td>21</td>\n",
              "      <td>Masculino</td>\n",
              "      <td>246468</td>\n",
              "      <td>3</td>\n",
              "    </tr>\n",
              "    <tr>\n",
              "      <th>1541</th>\n",
              "      <td>8</td>\n",
              "      <td>Televisor</td>\n",
              "      <td>5662</td>\n",
              "      <td>Entretenimiento</td>\n",
              "      <td>Amatitlán</td>\n",
              "      <td>3</td>\n",
              "      <td>0</td>\n",
              "      <td>555</td>\n",
              "      <td>25</td>\n",
              "      <td>Femenino</td>\n",
              "      <td>363237</td>\n",
              "      <td>2</td>\n",
              "    </tr>\n",
              "    <tr>\n",
              "      <th>1542</th>\n",
              "      <td>8</td>\n",
              "      <td>Bocina</td>\n",
              "      <td>4976</td>\n",
              "      <td>Entretenimiento</td>\n",
              "      <td>Petapa</td>\n",
              "      <td>2</td>\n",
              "      <td>0</td>\n",
              "      <td>441</td>\n",
              "      <td>58</td>\n",
              "      <td>Femenino</td>\n",
              "      <td>202550</td>\n",
              "      <td>3</td>\n",
              "    </tr>\n",
              "    <tr>\n",
              "      <th>1543</th>\n",
              "      <td>8</td>\n",
              "      <td>Bocina</td>\n",
              "      <td>1804</td>\n",
              "      <td>Entretenimiento</td>\n",
              "      <td>La Antigua</td>\n",
              "      <td>3</td>\n",
              "      <td>0</td>\n",
              "      <td>351</td>\n",
              "      <td>55</td>\n",
              "      <td>Femenino</td>\n",
              "      <td>414055</td>\n",
              "      <td>3</td>\n",
              "    </tr>\n",
              "  </tbody>\n",
              "</table>\n",
              "<p>1544 rows × 12 columns</p>\n",
              "</div>"
            ],
            "text/plain": [
              "      Mes     Producto  Código vendedor    Tipo producto        Tienda  \\\n",
              "0       3    Televisor             3312  Entretenimiento       Zona 15   \n",
              "1       7    Televisor             4976  Entretenimiento       Zona 12   \n",
              "2       8       Bocina             1804  Entretenimiento     Amatitlán   \n",
              "3       6  Computadora             4976         Portátil        Petapa   \n",
              "4       1        Radio             5662         Portátil  Oakland mall   \n",
              "...   ...          ...              ...              ...           ...   \n",
              "1539    7     Cafetera             4976            Otros    Miraflores   \n",
              "1540    8    Televisor             1804  Entretenimiento       Zona 12   \n",
              "1541    8    Televisor             5662  Entretenimiento     Amatitlán   \n",
              "1542    8       Bocina             4976  Entretenimiento        Petapa   \n",
              "1543    8       Bocina             1804  Entretenimiento    La Antigua   \n",
              "\n",
              "      Sector  Compra  Monto venta  Edad     Género  Punto de red  Frecuencia  \n",
              "0          1       1          569    36   Femenino        123739           1  \n",
              "1          2       0         2381    18   Femenino        308321           1  \n",
              "2          3       1          568    30  Masculino        143096           3  \n",
              "3          2       1         2518    23   Femenino        309360           4  \n",
              "4          1       1          391    53   Femenino        213568           2  \n",
              "...      ...     ...          ...   ...        ...           ...         ...  \n",
              "1539       2       0           71    49  Masculino        261873           4  \n",
              "1540       2       0         1799    21  Masculino        246468           3  \n",
              "1541       3       0          555    25   Femenino        363237           2  \n",
              "1542       2       0          441    58   Femenino        202550           3  \n",
              "1543       3       0          351    55   Femenino        414055           3  \n",
              "\n",
              "[1544 rows x 12 columns]"
            ]
          },
          "execution_count": 23,
          "metadata": {},
          "output_type": "execute_result"
        }
      ],
      "source": [
        "df"
      ]
    },
    {
      "cell_type": "code",
      "execution_count": null,
      "metadata": {
        "id": "t1qCNlekbhrB",
        "outputId": "2a16e95f-9110-4a71-94e6-9a6c82fd1696"
      },
      "outputs": [
        {
          "name": "stdout",
          "output_type": "stream",
          "text": [
            "Dimensiones: 1544 filas, 12 columnas\n",
            "Total Valores NA: 16\n",
            "Nombre Columna       Valores NA      % NA      \n",
            "Mes                  0               0.00      %\n",
            "Producto             16              1.04      %\n",
            "Código vendedor      0               0.00      %\n",
            "Tipo producto        0               0.00      %\n",
            "Tienda               0               0.00      %\n",
            "Sector               0               0.00      %\n",
            "Compra               0               0.00      %\n",
            "Monto venta          0               0.00      %\n",
            "Edad                 0               0.00      %\n",
            "Género               0               0.00      %\n",
            "Punto de red         0               0.00      %\n",
            "Frecuencia           0               0.00      %\n"
          ]
        }
      ],
      "source": [
        "#visualizar campos vacios:\n",
        "datos_NA(df)"
      ]
    },
    {
      "cell_type": "code",
      "execution_count": null,
      "metadata": {
        "id": "1saSiOpxbhrC",
        "outputId": "1890344b-b526-4b35-d006-d2d0d0911c6a"
      },
      "outputs": [
        {
          "data": {
            "text/plain": [
              "Bocina         342\n",
              "Celular        302\n",
              "Televisor      240\n",
              "Computadora    223\n",
              "Radio          198\n",
              "Consola        109\n",
              "DVD             75\n",
              "Cafetera        39\n",
              "Name: Producto, dtype: int64"
            ]
          },
          "execution_count": 28,
          "metadata": {},
          "output_type": "execute_result"
        }
      ],
      "source": [
        "df['Producto'].value_counts()"
      ]
    },
    {
      "cell_type": "code",
      "execution_count": null,
      "metadata": {
        "id": "MtBMkRigbhrD",
        "outputId": "a80741a8-1ec0-4b99-d51e-3093f84d8fef"
      },
      "outputs": [
        {
          "data": {
            "text/plain": [
              "Masculino    778\n",
              "Femenino     766\n",
              "Name: Género, dtype: int64"
            ]
          },
          "execution_count": 29,
          "metadata": {},
          "output_type": "execute_result"
        }
      ],
      "source": [
        "df['Género'].value_counts()"
      ]
    },
    {
      "cell_type": "code",
      "execution_count": null,
      "metadata": {
        "id": "FVsdRMCmbhrD",
        "outputId": "60190a76-801f-4d8c-fdba-3e11fa12d800"
      },
      "outputs": [
        {
          "data": {
            "text/plain": [
              "3    574\n",
              "2    573\n",
              "1    397\n",
              "Name: Sector, dtype: int64"
            ]
          },
          "execution_count": 30,
          "metadata": {},
          "output_type": "execute_result"
        }
      ],
      "source": [
        "df['Sector'].value_counts()"
      ]
    },
    {
      "cell_type": "code",
      "execution_count": null,
      "metadata": {
        "id": "Isjy5EYvbhrD",
        "outputId": "babc846c-085b-4548-ec19-4d541ba53435"
      },
      "outputs": [
        {
          "name": "stdout",
          "output_type": "stream",
          "text": [
            "Total de ventas por mes:\n",
            "Mes\n",
            "1     1372371\n",
            "12       7052\n",
            "Name: Monto venta, dtype: int64\n",
            "--------------------\n",
            "Productos más vendidos:\n",
            "Producto\n",
            "Bocina         342\n",
            "Celular        302\n",
            "Televisor      240\n",
            "Computadora    223\n",
            "Radio          198\n",
            "Consola        109\n",
            "DVD             75\n",
            "Cafetera        39\n",
            "Name: Producto, dtype: int64\n",
            "--------------------\n",
            "Ingresos totales por vendedor:\n",
            "Código vendedor\n",
            "1804    411354\n",
            "2422    148648\n",
            "3312    170241\n",
            "4976    382951\n",
            "5662    266229\n",
            "Name: Monto venta, dtype: int64\n"
          ]
        }
      ],
      "source": [
        "# Total de ventas por mes\n",
        "ventas_por_mes = df.groupby(df['Mes'].dt.month)['Monto venta'].sum()\n",
        "print(\"Total de ventas por mes:\")\n",
        "print(ventas_por_mes)\n",
        "print(\"--------------------\")\n",
        "\n",
        "# Productos más vendidos: producto y cantidad.\n",
        "productos_mas_vendidos = df.groupby('Producto')['Producto'].count().sort_values(ascending=False)\n",
        "print(\"Productos más vendidos:\")\n",
        "print(productos_mas_vendidos)\n",
        "print(\"--------------------\")\n",
        "\n",
        "# Ingresos totales por vendedor\n",
        "ingresos_por_vendedor = df.groupby('Código vendedor')['Monto venta'].sum()\n",
        "print(\"Ingresos totales por vendedor:\")\n",
        "print(ingresos_por_vendedor)"
      ]
    },
    {
      "cell_type": "markdown",
      "metadata": {
        "id": "yVLaFMeebhrE"
      },
      "source": [
        "## Gráficos de visualización"
      ]
    },
    {
      "cell_type": "code",
      "execution_count": null,
      "metadata": {
        "id": "mneAcUF3bhrG",
        "outputId": "7e20ebca-97ef-4da0-9371-d890456d7660"
      },
      "outputs": [
        {
          "data": {
            "image/png": "[encoded data removed]",
            "text/plain": [
              "<Figure size 800x600 with 1 Axes>"
            ]
          },
          "metadata": {},
          "output_type": "display_data"
        }
      ],
      "source": [
        "# Contar los valores únicos de género\n",
        "conteo_genero = df['Género'].value_counts()\n",
        "\n",
        "# Crear gráfico de barras\n",
        "plt.figure(figsize=(8, 6))\n",
        "sns.barplot(x=conteo_genero.index, y=conteo_genero.values)\n",
        "plt.xlabel('Género')\n",
        "plt.ylabel('Cantidad')\n",
        "plt.title('Distribución de género')\n",
        "plt.show()"
      ]
    },
    {
      "cell_type": "code",
      "execution_count": null,
      "metadata": {
        "id": "mpXzAMG5bhrH",
        "outputId": "5c57ff51-3836-4e7d-a6fa-8f2e016d024e"
      },
      "outputs": [
        {
          "data": {
            "text/plain": [
              "<seaborn.axisgrid.FacetGrid at 0x2443c595c90>"
            ]
          },
          "execution_count": 25,
          "metadata": {},
          "output_type": "execute_result"
        },
        {
          "data": {
            "image/png": "[encoded data removed]",
            "text/plain": [
              "<Figure size 600x300 with 2 Axes>"
            ]
          },
          "metadata": {},
          "output_type": "display_data"
        }
      ],
      "source": [
        "multigraf(df, 'Género','Tienda')"
      ]
    },
    {
      "cell_type": "code",
      "execution_count": null,
      "metadata": {
        "id": "hPeulDsjbhrI",
        "outputId": "f67a0d5a-4f41-4f26-c894-57929a91f343"
      },
      "outputs": [
        {
          "data": {
            "image/png": "[encoded data removed]",
            "text/plain": [
              "<Figure size 1000x600 with 1 Axes>"
            ]
          },
          "metadata": {},
          "output_type": "display_data"
        }
      ],
      "source": [
        "import seaborn as sns\n",
        "import matplotlib.pyplot as plt\n",
        "\n",
        "# Establecer el tamaño del gráfico\n",
        "plt.figure(figsize=(10, 6))\n",
        "\n",
        "# Crear gráfico de distribución\n",
        "sns.histplot(data=df, x='Tienda', hue='Producto', multiple='stack')\n",
        "\n",
        "# Añadir etiquetas y título\n",
        "plt.xlabel('Tienda')\n",
        "plt.ylabel('Frecuencia')\n",
        "plt.title('Distribución de ventas por tienda y producto')\n",
        "\n",
        "# Mostrar gráfico\n",
        "plt.show()\n"
      ]
    },
    {
      "cell_type": "code",
      "execution_count": null,
      "metadata": {
        "id": "q7kdoyfjbhrI",
        "outputId": "ddda8b2e-1731-48e3-ada8-3cf1acce69b0"
      },
      "outputs": [
        {
          "data": {
            "image/png": "[encoded data removed]",
            "text/plain": [
              "<Figure size 1000x600 with 1 Axes>"
            ]
          },
          "metadata": {},
          "output_type": "display_data"
        }
      ],
      "source": [
        "# Visualizar la distribución de las ventas\n",
        "import seaborn as sns\n",
        "\n",
        "# Establecer el tamaño del gráfico\n",
        "plt.figure(figsize=(10, 6))\n",
        "\n",
        "sns.histplot(data=df, x='Producto', bins=10)\n",
        "plt.xlabel('Producto')\n",
        "plt.ylabel('Frecuencia')\n",
        "plt.title('Distribución de ventas')\n",
        "plt.show()"
      ]
    },
    {
      "cell_type": "markdown",
      "metadata": {
        "id": "T2zYfFEBbhrJ"
      },
      "source": [
        "# Conclusiones:"
      ]
    },
    {
      "cell_type": "markdown",
      "metadata": {
        "id": "rhnLvBMxbhrK"
      },
      "source": [
        "1. Esta empresa presenta dos margenes de ventas importantes en los celulares y en las bocinas por lo cual recomiendo seguir haciendo marketing para esos productos ya sea con descuentos o promociones.\n",
        "2. Deben hacer un estudio de mercado en la zona 15 y replicarlos en las otras zonas.\n",
        "3. Los productos DVD y Cafetera deben ser sacados del mercado dado a que estan generando bajas. Recomiento reemplazarlos por accesorios para los celulares o barras de sonido para los televisores.\n",
        "4. El público masculino presenta una mayor cantidad de compras, aunque no por mucho. Recomiendo vender un poco mas de articulos de belleza para el publico femenino. esta puede generar un leve aumento en las ventas.\n",
        "5. El vendedor con codigo 1804 deberia ayudar a otros vendedores, recomiendo nivelar esto para aumentar las ventas.   "
      ]
    },
    {
      "cell_type": "code",
      "execution_count": null,
      "metadata": {
        "id": "84kFLvzibhrK"
      },
      "outputs": [],
      "source": []
    },
    {
      "cell_type": "code",
      "execution_count": null,
      "metadata": {
        "id": "smoOFmahbhrL"
      },
      "outputs": [],
      "source": []
    }
  ],
  "metadata": {
    "colab": {
      "provenance": [],
      "include_colab_link": true
    },
    "kernelspec": {
      "display_name": "Python 3 (ipykernel)",
      "language": "python",
      "name": "python3"
    },
    "language_info": {
      "codemirror_mode": {
        "name": "ipython",
        "version": 3
      },
      "file_extension": ".py",
      "mimetype": "text/x-python",
      "name": "python",
      "nbconvert_exporter": "python",
      "pygments_lexer": "ipython3",
      "version": "3.10.9"
    }
  },
  "nbformat": 4,
  "nbformat_minor": 0
}